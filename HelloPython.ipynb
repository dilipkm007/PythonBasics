{
  "nbformat": 4,
  "nbformat_minor": 0,
  "metadata": {
    "colab": {
      "provenance": [],
      "authorship_tag": "ABX9TyNU2y2ZNCHvnzUKlBxRDKeP",
      "include_colab_link": true
    },
    "kernelspec": {
      "name": "python3",
      "display_name": "Python 3"
    },
    "language_info": {
      "name": "python"
    }
  },
  "cells": [
    {
      "cell_type": "markdown",
      "metadata": {
        "id": "view-in-github",
        "colab_type": "text"
      },
      "source": [
        "<a href=\"https://colab.research.google.com/github/dilipkm007/PythonBasics/blob/main/HelloPython.ipynb\" target=\"_parent\"><img src=\"https://colab.research.google.com/assets/colab-badge.svg\" alt=\"Open In Colab\"/></a>"
      ]
    },
    {
      "cell_type": "code",
      "execution_count": 3,
      "metadata": {
        "colab": {
          "base_uri": "https://localhost:8080/"
        },
        "id": "ml8K85E-YSFn",
        "outputId": "5efe80fa-8f50-4391-b5ad-a54c66d7e175"
      },
      "outputs": [
        {
          "output_type": "stream",
          "name": "stdout",
          "text": [
            "0\n",
            "But, I don't want ANY spam!\n",
            "Spam Spam Spam Spam \n"
          ]
        }
      ],
      "source": [
        "#here we will check Airthmatic operator check what will be the output.\n",
        "spam_count = 0\n",
        "print(spam_count)\n",
        "\n",
        "spam_count = spam_count + 4\n",
        "\n",
        "if spam_count > 0:\n",
        "  print(\"But, I don't want ANY spam!\")\n",
        "\n",
        "song = \"Spam \" * 4\n",
        "print(song)"
      ]
    },
    {
      "cell_type": "code",
      "source": [
        "type(spam_count)"
      ],
      "metadata": {
        "colab": {
          "base_uri": "https://localhost:8080/"
        },
        "id": "UAKdjFljauBQ",
        "outputId": "6eb27642-ff06-4955-9428-9cbda5eabad5"
      },
      "execution_count": 4,
      "outputs": [
        {
          "output_type": "execute_result",
          "data": {
            "text/plain": [
              "int"
            ]
          },
          "metadata": {},
          "execution_count": 4
        }
      ]
    }
  ]
}