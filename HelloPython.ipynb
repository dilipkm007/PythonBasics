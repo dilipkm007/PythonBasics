{
  "nbformat": 4,
  "nbformat_minor": 0,
  "metadata": {
    "colab": {
      "provenance": [],
      "authorship_tag": "ABX9TyMOVjMEaNrrH476YRfs/Y9d",
      "include_colab_link": true
    },
    "kernelspec": {
      "name": "python3",
      "display_name": "Python 3"
    },
    "language_info": {
      "name": "python"
    }
  },
  "cells": [
    {
      "cell_type": "markdown",
      "metadata": {
        "id": "view-in-github",
        "colab_type": "text"
      },
      "source": [
        "<a href=\"https://colab.research.google.com/github/dilipkm007/PythonBasics/blob/main/HelloPython.ipynb\" target=\"_parent\"><img src=\"https://colab.research.google.com/assets/colab-badge.svg\" alt=\"Open In Colab\"/></a>"
      ]
    },
    {
      "cell_type": "code",
      "execution_count": 1,
      "metadata": {
        "colab": {
          "base_uri": "https://localhost:8080/"
        },
        "id": "ml8K85E-YSFn",
        "outputId": "9f71323b-5926-4282-df5a-9b8649a72f1f"
      },
      "outputs": [
        {
          "output_type": "stream",
          "name": "stdout",
          "text": [
            "0\n",
            "But, I don't want ANY spam!\n",
            "Spam Spam Spam Spam \n"
          ]
        }
      ],
      "source": [
        "#here we will check Airthmatic operator check what will be the output.\n",
        "spam_count = 0\n",
        "print(spam_count)\n",
        "\n",
        "spam_count = spam_count + 4\n",
        "\n",
        "if spam_count > 0:\n",
        "  print(\"But, I don't want ANY spam!\")\n",
        "\n",
        "song = \"Spam \" * 4\n",
        "print(song)"
      ]
    }
  ]
}