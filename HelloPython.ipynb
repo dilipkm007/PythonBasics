{
  "nbformat": 4,
  "nbformat_minor": 0,
  "metadata": {
    "colab": {
      "provenance": [],
      "authorship_tag": "ABX9TyPMQ3CScncpQ40hYYFpaXZL",
      "include_colab_link": true
    },
    "kernelspec": {
      "name": "python3",
      "display_name": "Python 3"
    },
    "language_info": {
      "name": "python"
    }
  },
  "cells": [
    {
      "cell_type": "markdown",
      "metadata": {
        "id": "view-in-github",
        "colab_type": "text"
      },
      "source": [
        "<a href=\"https://colab.research.google.com/github/dilipkm007/PythonBasics/blob/main/HelloPython.ipynb\" target=\"_parent\"><img src=\"https://colab.research.google.com/assets/colab-badge.svg\" alt=\"Open In Colab\"/></a>"
      ]
    },
    {
      "cell_type": "code",
      "execution_count": 3,
      "metadata": {
        "colab": {
          "base_uri": "https://localhost:8080/"
        },
        "id": "ml8K85E-YSFn",
        "outputId": "5efe80fa-8f50-4391-b5ad-a54c66d7e175"
      },
      "outputs": [
        {
          "output_type": "stream",
          "name": "stdout",
          "text": [
            "0\n",
            "But, I don't want ANY spam!\n",
            "Spam Spam Spam Spam \n"
          ]
        }
      ],
      "source": [
        "#here we will check Airthmatic operator check what will be the output.\n",
        "spam_count = 0\n",
        "print(spam_count)\n",
        "\n",
        "spam_count = spam_count + 4\n",
        "\n",
        "if spam_count > 0:\n",
        "  print(\"But, I don't want ANY spam!\")\n",
        "\n",
        "song = \"Spam \" * 4\n",
        "print(song)"
      ]
    },
    {
      "cell_type": "markdown",
      "source": [
        "**How we check the type of varible in python:**"
      ],
      "metadata": {
        "id": "DjEjgtVGcAUe"
      }
    },
    {
      "cell_type": "code",
      "source": [
        "type(spam_count)"
      ],
      "metadata": {
        "colab": {
          "base_uri": "https://localhost:8080/"
        },
        "id": "UAKdjFljauBQ",
        "outputId": "6eb27642-ff06-4955-9428-9cbda5eabad5"
      },
      "execution_count": 4,
      "outputs": [
        {
          "output_type": "execute_result",
          "data": {
            "text/plain": [
              "int"
            ]
          },
          "metadata": {},
          "execution_count": 4
        }
      ]
    },
    {
      "cell_type": "markdown",
      "source": [
        "*Python has two types division:*\n",
        "1.   True Division (/)\n",
        "2.   Floor division(//) \n",
        "\n"
      ],
      "metadata": {
        "id": "bD7mML0ncvIm"
      }
    },
    {
      "cell_type": "code",
      "source": [
        "print(5 / 2)\n",
        "print( 5 // 2)"
      ],
      "metadata": {
        "colab": {
          "base_uri": "https://localhost:8080/"
        },
        "id": "1KonLcToc-3t",
        "outputId": "3c22022f-8156-4a43-84dc-9f26caf40c95"
      },
      "execution_count": 5,
      "outputs": [
        {
          "output_type": "stream",
          "name": "stdout",
          "text": [
            "2.5\n",
            "2\n"
          ]
        }
      ]
    },
    {
      "cell_type": "markdown",
      "source": [
        "**Other Useful functions**"
      ],
      "metadata": {
        "id": "jzcSzC5sxe6f"
      }
    },
    {
      "cell_type": "code",
      "source": [
        "print(min(1, 2, 5, 4, -1))\n",
        "print(max(-1, -2, -5, -4, -6))"
      ],
      "metadata": {
        "colab": {
          "base_uri": "https://localhost:8080/"
        },
        "id": "FZLqNM7Ax2CE",
        "outputId": "722950db-45e3-4d80-c620-506d7d7bacef"
      },
      "execution_count": 2,
      "outputs": [
        {
          "output_type": "stream",
          "name": "stdout",
          "text": [
            "-1\n",
            "-1\n"
          ]
        }
      ]
    },
    {
      "cell_type": "code",
      "source": [
        "print(abs(300))\n",
        "print(abs(-300))"
      ],
      "metadata": {
        "colab": {
          "base_uri": "https://localhost:8080/"
        },
        "id": "zJ-w2OksyfqX",
        "outputId": "29159c36-301a-4b8a-ece3-43d8d74762ae"
      },
      "execution_count": 3,
      "outputs": [
        {
          "output_type": "stream",
          "name": "stdout",
          "text": [
            "300\n",
            "300\n"
          ]
        }
      ]
    }
  ]
}