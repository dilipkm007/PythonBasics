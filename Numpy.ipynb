{
  "cells": [
    {
      "cell_type": "markdown",
      "metadata": {
        "id": "view-in-github",
        "colab_type": "text"
      },
      "source": [
        "<a href=\"https://colab.research.google.com/github/dilipkm007/PythonBasics/blob/main/Numpy.ipynb\" target=\"_parent\"><img src=\"https://colab.research.google.com/assets/colab-badge.svg\" alt=\"Open In Colab\"/></a>"
      ]
    },
    {
      "cell_type": "code",
      "execution_count": 2,
      "id": "943fd5f9",
      "metadata": {
        "id": "943fd5f9"
      },
      "outputs": [],
      "source": [
        "import numpy as np"
      ]
    },
    {
      "cell_type": "markdown",
      "id": "949f1dfa",
      "metadata": {
        "id": "949f1dfa"
      },
      "source": [
        "<h1>Scalar</h1>"
      ]
    },
    {
      "cell_type": "code",
      "execution_count": 3,
      "id": "0b3ac185",
      "metadata": {
        "id": "0b3ac185",
        "outputId": "9ece4cf3-03d4-468a-d044-5204d99e9d52",
        "colab": {
          "base_uri": "https://localhost:8080/"
        }
      },
      "outputs": [
        {
          "output_type": "execute_result",
          "data": {
            "text/plain": [
              "5"
            ]
          },
          "metadata": {},
          "execution_count": 3
        }
      ],
      "source": [
        "s = 5\n",
        "s"
      ]
    },
    {
      "cell_type": "markdown",
      "id": "e1d87401",
      "metadata": {
        "id": "e1d87401"
      },
      "source": [
        "<h1>Vector</h1>"
      ]
    },
    {
      "cell_type": "code",
      "execution_count": 4,
      "id": "31b8afeb",
      "metadata": {
        "id": "31b8afeb",
        "outputId": "001def41-69b3-464d-8fab-3e23e7edf553",
        "colab": {
          "base_uri": "https://localhost:8080/"
        }
      },
      "outputs": [
        {
          "output_type": "execute_result",
          "data": {
            "text/plain": [
              "array([ 5, -2,  4])"
            ]
          },
          "metadata": {},
          "execution_count": 4
        }
      ],
      "source": [
        "v = np.array([5, -2, 4])\n",
        "v"
      ]
    },
    {
      "cell_type": "markdown",
      "id": "7503570b",
      "metadata": {
        "id": "7503570b"
      },
      "source": [
        "<h1>Matrix</h1>"
      ]
    },
    {
      "cell_type": "code",
      "execution_count": 5,
      "id": "6118e0de",
      "metadata": {
        "id": "6118e0de",
        "outputId": "44e01b5c-1350-45df-eaaf-e112742ecba6",
        "colab": {
          "base_uri": "https://localhost:8080/"
        }
      },
      "outputs": [
        {
          "output_type": "execute_result",
          "data": {
            "text/plain": [
              "array([[ 5, 12,  6],\n",
              "       [-3,  0, 14]])"
            ]
          },
          "metadata": {},
          "execution_count": 5
        }
      ],
      "source": [
        "m = np.array([[5, 12, 6], [-3, 0, 14]])\n",
        "m"
      ]
    },
    {
      "cell_type": "markdown",
      "id": "23989760",
      "metadata": {
        "id": "23989760"
      },
      "source": [
        "<h1>Check DataType of declared variable</h1>"
      ]
    },
    {
      "cell_type": "code",
      "execution_count": 6,
      "id": "e26a0850",
      "metadata": {
        "id": "e26a0850",
        "outputId": "42e5516e-7139-44eb-e356-4385f867d753",
        "colab": {
          "base_uri": "https://localhost:8080/"
        }
      },
      "outputs": [
        {
          "output_type": "execute_result",
          "data": {
            "text/plain": [
              "int"
            ]
          },
          "metadata": {},
          "execution_count": 6
        }
      ],
      "source": [
        "type(s)"
      ]
    },
    {
      "cell_type": "code",
      "execution_count": 7,
      "id": "67249b1c",
      "metadata": {
        "id": "67249b1c",
        "outputId": "1f01554d-1c0a-4f95-d4e7-2299fbc6a8bd",
        "colab": {
          "base_uri": "https://localhost:8080/"
        }
      },
      "outputs": [
        {
          "output_type": "execute_result",
          "data": {
            "text/plain": [
              "numpy.ndarray"
            ]
          },
          "metadata": {},
          "execution_count": 7
        }
      ],
      "source": [
        "type(v)"
      ]
    },
    {
      "cell_type": "code",
      "execution_count": 8,
      "id": "28e53ef8",
      "metadata": {
        "id": "28e53ef8",
        "outputId": "4c9bc0cf-b940-4386-d956-afc11496fab1",
        "colab": {
          "base_uri": "https://localhost:8080/"
        }
      },
      "outputs": [
        {
          "output_type": "execute_result",
          "data": {
            "text/plain": [
              "numpy.ndarray"
            ]
          },
          "metadata": {},
          "execution_count": 8
        }
      ],
      "source": [
        "type(m)"
      ]
    },
    {
      "cell_type": "markdown",
      "id": "9df5bab7",
      "metadata": {
        "id": "9df5bab7"
      },
      "source": [
        "<h3>Another way to create scalar in python<\\h3>"
      ]
    },
    {
      "cell_type": "code",
      "execution_count": 9,
      "id": "13683e48",
      "metadata": {
        "id": "13683e48",
        "outputId": "deb05fc1-ebcc-4522-9357-f0bf3829c452",
        "colab": {
          "base_uri": "https://localhost:8080/"
        }
      },
      "outputs": [
        {
          "output_type": "execute_result",
          "data": {
            "text/plain": [
              "array(5)"
            ]
          },
          "metadata": {},
          "execution_count": 9
        }
      ],
      "source": [
        "s_array = np.array(5)\n",
        "s_array"
      ]
    },
    {
      "cell_type": "code",
      "execution_count": 10,
      "id": "fab0690a",
      "metadata": {
        "id": "fab0690a",
        "outputId": "ac0ddb4a-6885-44a8-836e-585b45df99cc",
        "colab": {
          "base_uri": "https://localhost:8080/"
        }
      },
      "outputs": [
        {
          "output_type": "execute_result",
          "data": {
            "text/plain": [
              "numpy.ndarray"
            ]
          },
          "metadata": {},
          "execution_count": 10
        }
      ],
      "source": [
        "type(s_array)"
      ]
    },
    {
      "cell_type": "markdown",
      "id": "7101f7da",
      "metadata": {
        "id": "7101f7da"
      },
      "source": [
        "<h1>Data Shape</h1>"
      ]
    },
    {
      "cell_type": "code",
      "execution_count": 11,
      "id": "02e70837",
      "metadata": {
        "id": "02e70837",
        "outputId": "012c8a55-9a4e-406f-c52a-2e7b7e6046a0",
        "colab": {
          "base_uri": "https://localhost:8080/"
        }
      },
      "outputs": [
        {
          "output_type": "execute_result",
          "data": {
            "text/plain": [
              "(3,)"
            ]
          },
          "metadata": {},
          "execution_count": 11
        }
      ],
      "source": [
        "v.shape"
      ]
    },
    {
      "cell_type": "code",
      "execution_count": 12,
      "id": "580a29a3",
      "metadata": {
        "id": "580a29a3",
        "outputId": "5c55c6b7-3636-43fd-faef-2ff7dc877890",
        "colab": {
          "base_uri": "https://localhost:8080/"
        }
      },
      "outputs": [
        {
          "output_type": "execute_result",
          "data": {
            "text/plain": [
              "(2, 3)"
            ]
          },
          "metadata": {},
          "execution_count": 12
        }
      ],
      "source": [
        "m.shape"
      ]
    },
    {
      "cell_type": "code",
      "execution_count": 13,
      "id": "2190f4cb",
      "metadata": {
        "id": "2190f4cb",
        "outputId": "405dfee3-f44a-4aae-96b9-aa652941f3cf",
        "colab": {
          "base_uri": "https://localhost:8080/"
        }
      },
      "outputs": [
        {
          "output_type": "execute_result",
          "data": {
            "text/plain": [
              "()"
            ]
          },
          "metadata": {},
          "execution_count": 13
        }
      ],
      "source": [
        "s_array.shape"
      ]
    },
    {
      "cell_type": "markdown",
      "id": "8ed57b2b",
      "metadata": {
        "id": "8ed57b2b"
      },
      "source": [
        "<h1>Creating new vector, Matrix using Reshape</h1>"
      ]
    },
    {
      "cell_type": "code",
      "execution_count": 14,
      "id": "68894949",
      "metadata": {
        "id": "68894949",
        "outputId": "516522a3-ae62-4a38-dde4-38a682f8aa12",
        "colab": {
          "base_uri": "https://localhost:8080/"
        }
      },
      "outputs": [
        {
          "output_type": "execute_result",
          "data": {
            "text/plain": [
              "array([[ 5, -2,  4]])"
            ]
          },
          "metadata": {},
          "execution_count": 14
        }
      ],
      "source": [
        "v.reshape(1, 3)"
      ]
    },
    {
      "cell_type": "code",
      "execution_count": 15,
      "id": "2db8cd6f",
      "metadata": {
        "id": "2db8cd6f",
        "outputId": "be51e61f-dca2-4c4c-fbc0-eab148f4be15",
        "colab": {
          "base_uri": "https://localhost:8080/"
        }
      },
      "outputs": [
        {
          "output_type": "execute_result",
          "data": {
            "text/plain": [
              "array([[ 5],\n",
              "       [-2],\n",
              "       [ 4]])"
            ]
          },
          "metadata": {},
          "execution_count": 15
        }
      ],
      "source": [
        "v.reshape(3, 1)"
      ]
    }
  ],
  "metadata": {
    "kernelspec": {
      "display_name": "Python 3 (ipykernel)",
      "language": "python",
      "name": "python3"
    },
    "language_info": {
      "codemirror_mode": {
        "name": "ipython",
        "version": 3
      },
      "file_extension": ".py",
      "mimetype": "text/x-python",
      "name": "python",
      "nbconvert_exporter": "python",
      "pygments_lexer": "ipython3",
      "version": "3.9.13"
    },
    "colab": {
      "provenance": [],
      "include_colab_link": true
    }
  },
  "nbformat": 4,
  "nbformat_minor": 5
}